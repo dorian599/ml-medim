{
  "nbformat": 4,
  "nbformat_minor": 0,
  "metadata": {
    "colab": {
      "provenance": []
    },
    "kernelspec": {
      "name": "python3",
      "display_name": "Python 3"
    },
    "language_info": {
      "name": "python"
    }
  },
  "cells": [
    {
      "cell_type": "markdown",
      "source": [
        "# Machine Learning 101\n",
        "\n",
        "This is a very 101 Medium hands-on lab for begins with ML"
      ],
      "metadata": {
        "id": "89GpP-B5zPWx"
      }
    },
    {
      "cell_type": "markdown",
      "source": [
        "## Import Libraries ##"
      ],
      "metadata": {
        "id": "bvms0zKly5PG"
      }
    },
    {
      "cell_type": "code",
      "execution_count": 1,
      "metadata": {
        "id": "aZj3u8GdCDlv"
      },
      "outputs": [],
      "source": [
        "import pandas as pd\n",
        "from sklearn.tree import DecisionTreeClassifier\n",
        "import joblib"
      ]
    },
    {
      "cell_type": "markdown",
      "source": [
        "## Load the data ##"
      ],
      "metadata": {
        "id": "VVsAshOTF9N3"
      }
    },
    {
      "cell_type": "code",
      "source": [
        "cars_data = pd.read_csv('cars.csv')"
      ],
      "metadata": {
        "id": "oSRK2vpIEQlN"
      },
      "execution_count": 26,
      "outputs": []
    },
    {
      "cell_type": "markdown",
      "source": [
        "## Split the data ##\n",
        "\n",
        "**NOTE:** use `.values` to avoid the sklearn **\"valid feature name\"** warnings"
      ],
      "metadata": {
        "id": "k3DDp7-eGD8E"
      }
    },
    {
      "cell_type": "code",
      "source": [
        "X = cars_data.drop(columns=['vehicle_type']).values # Imput Data\n",
        "\n",
        "y = cars_data['vehicle_type'] # Output Dat"
      ],
      "metadata": {
        "id": "WGkAuLoZFyGg"
      },
      "execution_count": 21,
      "outputs": []
    },
    {
      "cell_type": "markdown",
      "source": [
        "## Create the Model ##"
      ],
      "metadata": {
        "id": "8_SX3AnxGJyL"
      }
    },
    {
      "cell_type": "code",
      "source": [
        "model = DecisionTreeClassifier()"
      ],
      "metadata": {
        "id": "0TpNNiSpGNSW"
      },
      "execution_count": 22,
      "outputs": []
    },
    {
      "cell_type": "markdown",
      "source": [
        "## Train the Model ##"
      ],
      "metadata": {
        "id": "qZdj1dySGy9p"
      }
    },
    {
      "cell_type": "code",
      "source": [
        "model.fit(X, y)"
      ],
      "metadata": {
        "colab": {
          "base_uri": "https://localhost:8080/"
        },
        "id": "II62EzdCG4Pi",
        "outputId": "9bbf51ef-72f3-4a55-bc9d-6f5188bd486f"
      },
      "execution_count": 23,
      "outputs": [
        {
          "output_type": "execute_result",
          "data": {
            "text/plain": [
              "DecisionTreeClassifier()"
            ]
          },
          "metadata": {},
          "execution_count": 23
        }
      ]
    },
    {
      "cell_type": "markdown",
      "source": [
        "## Make the predictions ##"
      ],
      "metadata": {
        "id": "4XFJtnwHG584"
      }
    },
    {
      "cell_type": "code",
      "source": [
        "predictions = model.predict([ [21,1] ])\n",
        "predictions[0]"
      ],
      "metadata": {
        "colab": {
          "base_uri": "https://localhost:8080/",
          "height": 35
        },
        "id": "vT8r_nclG90r",
        "outputId": "d59a78a2-1b72-4915-dd0d-79b5a73c0ee0"
      },
      "execution_count": 25,
      "outputs": [
        {
          "output_type": "execute_result",
          "data": {
            "text/plain": [
              "'Supercar'"
            ],
            "application/vnd.google.colaboratory.intrinsic+json": {
              "type": "string"
            }
          },
          "metadata": {},
          "execution_count": 25
        }
      ]
    },
    {
      "cell_type": "markdown",
      "source": [
        "## Persisting the Model ##"
      ],
      "metadata": {
        "id": "CJa3aYnpH2v_"
      }
    },
    {
      "cell_type": "code",
      "source": [
        "joblib.dump(model, 'music-recomender.joblib')"
      ],
      "metadata": {
        "colab": {
          "base_uri": "https://localhost:8080/"
        },
        "id": "GQsrVkBIH7x1",
        "outputId": "ae2b6dc3-8a4b-4aba-c189-8d1649061bb1"
      },
      "execution_count": null,
      "outputs": [
        {
          "output_type": "execute_result",
          "data": {
            "text/plain": [
              "['music-recomender.joblib']"
            ]
          },
          "metadata": {},
          "execution_count": 23
        }
      ]
    }
  ]
}